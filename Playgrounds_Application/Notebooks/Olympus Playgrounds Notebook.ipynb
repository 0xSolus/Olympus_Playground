{
 "cells": [
  {
   "cell_type": "markdown",
   "id": "7b5dc8ee",
   "metadata": {
    "heading_collapsed": true
   },
   "source": [
    "# Welcome to OlympusDAO Playground"
   ]
  },
  {
   "cell_type": "markdown",
   "id": "8a8a25f3",
   "metadata": {
    "hidden": true
   },
   "source": [
    "## Introduction: What is Olympus Playground?\n",
    "\n",
    "This is a simple projection calculator for Staking and bonding ohm in OlympusDAO protocol\n",
    "Welcome to Olympus Playground\n",
    "This is an interactive notebook to study, play and forcast the growth of your ohm over time. This notebook is designed to work hand in hand with the awesome gitbook created by the DAO and all of Brians calcs!\n",
    "\n",
    "### Staking Projections:\n",
    "\n",
    "- ROIs at current reward yield\n",
    "- ROI after 1 day at current reward yield\n",
    "- ROI after 5 days at current reward yield\n",
    "- OHM and USD ROI and holding value in 5 days\n",
    "- ROI after 7 days at current reward yield\n",
    "- OMH and USD ROI and holding value in 7 days\n",
    "- ROI after 1 month at current reward yield\n",
    "- OHM and USD ROI and holding value in 1 Month\n",
    "- ROI after 1 year at current reward yield\n",
    "- OHM and USD ROI and holding value in 1 Year\n",
    "- Days until desired target USD\n",
    "- Days until desired target OHM\n",
    "- OHM and USD ROI and holding on specific date. This data will be provided on an interactive chart where you can hover your mouse over any desired date and view the projection.\n",
    "\n",
    "### Staking Rewards Projections:\n",
    "\n",
    "- Required OHM to reach desired daily incooom\n",
    "- Days until you reach required OHMs for daily incoom (Assuming growth by staking alone)\n",
    "- Estimated date\n",
    "Desire weekly incooom\n",
    "- Required OHM to reach goal desire weekly incooom\n",
    "- weeks until you reach required OHMs for weeks incoom (Assuming growth by staking alone)\n",
    "- Estimated date\n"
   ]
  },
  {
   "cell_type": "markdown",
   "id": "9440a2f3",
   "metadata": {
    "heading_collapsed": true
   },
   "source": [
    "# The Libraries"
   ]
  },
  {
   "cell_type": "code",
   "execution_count": 151,
   "id": "c78d57c7",
   "metadata": {
    "code_folding": [],
    "hidden": true
   },
   "outputs": [],
   "source": [
    "# ==============THE LIBRARIES\n",
    "# region Description: Import all required libraries for this simulator\n",
    "from pycoingecko import CoinGeckoAPI # Coin gecko API: Pulls live data from coin gecko\n",
    "import math  # Needed for basic math operations\\n\",\n",
    "import pandas as pd  # Needed fpr dataframe creation and operations\\n\",\n",
    "import numpy as np  # Needed for array manipulations\\n\",\n",
    "from itertools import islice  # Needed for more complex row and coloumn slicing\\n\",\n",
    "import matplotlib.pyplot as plt  # Needed for quickly ploting results\"\n",
    "import base64\n",
    "from PIL import Image\n",
    "import pathlib  # url management\n",
    "from pathlib import Path\n",
    "import plotly.express as px  # cleaner graphs\n",
    "import plotly.graph_objects as go  # cleaner graphs\n",
    "import plotly.figure_factory as ff\n",
    "import streamlit as st\n",
    "import requests"
   ]
  },
  {
   "cell_type": "markdown",
   "id": "8b216b07",
   "metadata": {
    "code_folding": [],
    "hidden": true
   },
   "source": [
    "### Streamlit Library\n",
    "\n",
    "Streamlit is an open-source Python library that makes it easy to create and share beautiful, custom web apps for machine learning and data science\n",
    "\n",
    "https://docs.streamlit.io/"
   ]
  },
  {
   "cell_type": "markdown",
   "id": "7a2c965b",
   "metadata": {
    "code_folding": [],
    "hidden": true
   },
   "source": [
    "### Plotly Library\n",
    "\n",
    "Plotly's Python graphing library makes interactive, publication-quality graphs. Examples of how to make line plots, scatter plots, area charts, bar charts, error bars, box plots, histograms, heatmaps, subplots, multiple-axes, polar charts, and bubble charts.\n",
    "\n",
    "https://plotly.com/python/"
   ]
  },
  {
   "cell_type": "markdown",
   "id": "964e6f86",
   "metadata": {
    "code_folding": [],
    "hidden": true
   },
   "source": [
    "### Pandas Library\n",
    "\n",
    "pandas is a fast, powerful, flexible and easy to use open source data analysis and manipulation tool,\n",
    "built on top of the Python programming language\n",
    "\n",
    "https://pandas.pydata.org/"
   ]
  },
  {
   "cell_type": "markdown",
   "id": "abb04db4",
   "metadata": {
    "code_folding": [],
    "hidden": true
   },
   "source": [
    "### Numpy Library\n",
    "\n",
    "NumPy is the fundamental package for scientific computing in Python. \n",
    "It is a Python library that provides a multidimensional array object, various derived objects \n",
    "(such as masked arrays and matrices), and an assortment of routines for fast operations on arrays, including mathematical, logical, shape manipulation, sorting, selecting, I/O, discrete Fourier transforms, basic linear algebra, basic statistical operations, random simulation and much more.\n",
    "\n",
    "https://numpy.org/"
   ]
  },
  {
   "cell_type": "markdown",
   "id": "9f327f40",
   "metadata": {
    "heading_collapsed": true
   },
   "source": [
    "# The server "
   ]
  },
  {
   "cell_type": "markdown",
   "id": "544de40e",
   "metadata": {
    "hidden": true
   },
   "source": [
    "Playgrounds is hosted on the streamlit cloud server\n",
    "\n",
    "https://streamlit.io/cloud#plans-table\n",
    "\n",
    "All py files are stored and read from the Playgrounds github repo\n",
    "https://github.com/Tachikoma000/Olympus_Playground"
   ]
  },
  {
   "cell_type": "markdown",
   "id": "55186527",
   "metadata": {
    "heading_collapsed": true
   },
   "source": [
    "# Core Code"
   ]
  },
  {
   "cell_type": "markdown",
   "id": "e3b81f68",
   "metadata": {
    "heading_collapsed": true,
    "hidden": true
   },
   "source": [
    "## Staking Simulator"
   ]
  },
  {
   "cell_type": "markdown",
   "id": "952e624f",
   "metadata": {
    "code_folding": [],
    "hidden": true
   },
   "source": [
    "The staking simulator is comprised of two sections:\n",
    "\n",
    "        -Protocol Metrics scanner \n",
    "        -Ohm growth forecast\n",
    "        -Income (staking rewards) forecast"
   ]
  },
  {
   "cell_type": "markdown",
   "id": "d4b793db",
   "metadata": {
    "heading_collapsed": true,
    "hidden": true
   },
   "source": [
    "### Protocol Metrics Scanner\n"
   ]
  },
  {
   "cell_type": "code",
   "execution_count": 5,
   "id": "4909e7f9",
   "metadata": {
    "hidden": true,
    "scrolled": true
   },
   "outputs": [
    {
     "ename": "IndentationError",
     "evalue": "unindent does not match any outer indentation level (<tokenize>, line 13)",
     "output_type": "error",
     "traceback": [
      "\u001b[1;36m  File \u001b[1;32m\"<tokenize>\"\u001b[1;36m, line \u001b[1;32m13\u001b[0m\n\u001b[1;33m    query = \"\"\"\u001b[0m\n\u001b[1;37m    ^\u001b[0m\n\u001b[1;31mIndentationError\u001b[0m\u001b[1;31m:\u001b[0m unindent does not match any outer indentation level\n"
     ]
    }
   ],
   "source": [
    "def run_query(q):\n",
    "\n",
    "        # endpoint where you are making the request\n",
    "        request = requests.post('https://api.thegraph.com/subgraphs/name/drondin/olympus-graph'\n",
    "                                '',\n",
    "                                json={'query': query})\n",
    "        if request.status_code == 200:\n",
    "            return request.json()\n",
    "        else:\n",
    "            raise Exception('Query failed. return code is {}.      {}'.format(request.status_code, query))\n",
    "\n",
    "    # The Graph query... these queries are made available to us on the olympus sub graph -\n",
    "    query = \"\"\"\n",
    "        {\n",
    "        protocolMetrics(first: 1, orderBy: timestamp, orderDirection: desc) {\n",
    "            timestamp\n",
    "            ohmCirculatingSupply\n",
    "            sOhmCirculatingSupply\n",
    "            totalSupply\n",
    "            ohmPrice\n",
    "            marketCap\n",
    "            totalValueLocked\n",
    "            treasuryMarketValue\n",
    "            treasuryRiskFreeValue\n",
    "            runwayCurrent\n",
    "            currentAPY\n",
    "            nextEpochRebase\n",
    "            nextDistributedOhm\n",
    "          }\n",
    "        }\n",
    "        \"\"\"\n",
    "    result = run_query(query)\n",
    "\n",
    "    # results come as a list of dictionaries, which is in a nested dictionary. so we have to extract the dictionary we care about\n",
    "    dataDict = result['data']['protocolMetrics']\n",
    "    protocolMetrics_df = pd.DataFrame(dataDict)\n",
    "    protocolMetrics_df = protocolMetrics_df.astype(float)\n",
    "    protocolMetrics_df['dateTime'] = pd.to_datetime(protocolMetrics_df.timestamp, unit='s')\n",
    "    protocolMetrics_df['dateTime'] = protocolMetrics_df['dateTime'].dt.date\n",
    "    protocolMetrics_df = protocolMetrics_df.set_index('dateTime')\n",
    "    #st.write(protocolMetrics_df)\n",
    "\n",
    "    currentOhmPrice = round(float(protocolMetrics_df.ohmPrice.iloc[0]),2)\n",
    "    currentOCirc = round(float(protocolMetrics_df.ohmCirculatingSupply.iloc[0]), 2)\n",
    "    currentSOCirc = round(float(protocolMetrics_df.sOhmCirculatingSupply.iloc[0]), 2)\n",
    "    currentTSupply = round(float(protocolMetrics_df.totalSupply.iloc[0]), 2)\n",
    "    currentMCap = round(float(protocolMetrics_df.marketCap.iloc[0]), 2)\n",
    "    currentTVL = round(float(protocolMetrics_df.totalValueLocked.iloc[0]),2)\n",
    "    currentTMV = round(float(protocolMetrics_df.treasuryMarketValue.iloc[0]), 2)\n",
    "    currentTRFV = round(float(protocolMetrics_df.treasuryRiskFreeValue.iloc[0]), 2)\n",
    "    currentRunway = round(float(protocolMetrics_df.runwayCurrent.iloc[0]), 2)\n",
    "    currentAPY = round(float(protocolMetrics_df.currentAPY.iloc[0]), 2)\n",
    "    currentEpochs = round(float(protocolMetrics_df.nextEpochRebase.iloc[0]), 4)\n",
    "    currentNextDist = round(float(protocolMetrics_df.nextDistributedOhm.iloc[0]), 2)"
   ]
  },
  {
   "cell_type": "markdown",
   "id": "fc2a814b",
   "metadata": {
    "heading_collapsed": true,
    "hidden": true
   },
   "source": [
    "###  Section 1: Ohm growth forecast"
   ]
  },
  {
   "cell_type": "code",
   "execution_count": 2,
   "id": "a1d5d11d",
   "metadata": {
    "hidden": true
   },
   "outputs": [],
   "source": [
    "def ohmGrowth_Projection(initialOhms, userAPY, ohmGrowthDays, minAPY, maxAPY,percentSale, sellDays, ohmPrice_DCA, valBuy, buyDays):\n",
    "\n",
    "    # Data frame to hold all required data point. Data required would be Epochs since rebase are distributed every Epoch\n",
    "    ohmGrowthEpochs = (ohmGrowthDays * 3)+1\n",
    "    sellEpochs = sellDays * 3\n",
    "    buyEpochs = buyDays * 3\n",
    "    cadenceConst = sellEpochs\n",
    "    cadenceConst_BUY = buyEpochs\n",
    "    dcaAmount = valBuy/ohmPrice_DCA\n",
    "    percentSale = percentSale/100\n",
    "    userAPY = userAPY/100\n",
    "    minAPY = minAPY/100\n",
    "    maxAPY = maxAPY/100\n",
    "\n",
    "\n",
    "    rewardYield = ((1+userAPY)**(1/float(1095)))-1\n",
    "    minOIPYield = ((1 + minAPY) ** (1 / float(1095))) - 1\n",
    "    maxOIPYield = ((1 + maxAPY) ** (1 / float(1095))) - 1\n",
    "\n",
    "\n",
    "    ohmGrowth_df = pd.DataFrame(np.arange(ohmGrowthEpochs),columns=['Epochs'])  # In this case let's consider 1096 Epochs which is 365 days\n",
    "    ohmGrowth_df['Days'] = ohmGrowth_df.Epochs / 3  # There are 3 Epochs per day so divide by 3 to get Days\n",
    "\n",
    "    profitAdjusted_ohmGrowth_df = pd.DataFrame(np.arange(ohmGrowthEpochs),columns=['Epochs'])\n",
    "    profitAdjusted_ohmGrowth_df['Days'] = profitAdjusted_ohmGrowth_df.Epochs / 3\n",
    "\n",
    "    dollarCostAVG_ohmGrowth_df = pd.DataFrame(np.arange(ohmGrowthEpochs),columns=['Epochs'])\n",
    "    dollarCostAVG_ohmGrowth_df['Days'] = profitAdjusted_ohmGrowth_df.Epochs / 3\n",
    "\n",
    "    # To Calculate the ohm growth over 3000 Epochs or 1000 days, we loop through the exponential ohm growth equation every epoch\n",
    "    totalOhms = []  # create an empty array that will hold the componded rewards\n",
    "    pA_totalOhms = []\n",
    "    dcA_totalOhms = []\n",
    "\n",
    "    rewardYield = round(rewardYield, 5)\n",
    "    ohmStakedGrowth = initialOhms  # Initial staked ohms used to project growth over time\n",
    "    pA_ohmStakedGrowth = initialOhms\n",
    "    dcA_ohmStakedGrowth = initialOhms\n",
    "\n",
    "\n",
    "    # Initialize the for loop to have loops equal to number of rows or number of epochs\n",
    "    for elements in ohmGrowth_df.Epochs:\n",
    "        totalOhms.append(ohmStakedGrowth)  # populate the empty array with calclated values each iteration\n",
    "        pA_totalOhms.append(pA_ohmStakedGrowth)\n",
    "        dcA_totalOhms.append(dcA_ohmStakedGrowth)\n",
    "\n",
    "\n",
    "        ohmStakedGrowth = ohmStakedGrowth * (1 + rewardYield)  # compound the total amount of ohms\n",
    "        pA_ohmStakedGrowth = pA_ohmStakedGrowth * (1 + rewardYield)\n",
    "        dcA_ohmStakedGrowth = dcA_ohmStakedGrowth * (1 + rewardYield)\n",
    "\n",
    "        if elements == sellEpochs:\n",
    "            sellEpochs = sellEpochs + cadenceConst\n",
    "            #print(totalOhms[-1] - (totalOhms[-1] * percentSale))\n",
    "            pA_ohmStakedGrowth = pA_totalOhms[-1] - (pA_totalOhms[-1]*percentSale)\n",
    "        else:\n",
    "            pass\n",
    "\n",
    "        if elements == buyEpochs:\n",
    "            buyEpochs = buyEpochs + cadenceConst_BUY\n",
    "            #print(dcA_ohmStakedGrowth)\n",
    "            dcA_ohmStakedGrowth = dcA_ohmStakedGrowth + dcaAmount\n",
    "            #print(dcA_ohmStakedGrowth)\n",
    "        else:\n",
    "            pass\n",
    "\n",
    "    ohmGrowth_df['Total_Ohms'] = totalOhms  # Clean up and add the new array to the main data frame\n",
    "    ohmGrowth_df['Profit_Adjusted_Total_Ohms'] = pA_totalOhms\n",
    "    ohmGrowth_df['DCA_Adjusted_Total_Ohms'] = dcA_totalOhms\n",
    "    ohmGrowth_df.Days = np.around( ohmGrowth_df.Days, decimals=1)  # Python is funny so let's round up our numbers . 1 decimal place for days\",\n",
    "    ohmGrowth_df.Total_Ohms = np.around( ohmGrowth_df.Total_Ohms, decimals=3 )  # Python is funny so let's round up our numbers . 3 decimal place for ohms\"\n",
    "    ohmGrowth_df.Profit_Adjusted_Total_Ohms = np.around(ohmGrowth_df.Profit_Adjusted_Total_Ohms, decimals=3)\n",
    "    ohmGrowth_df.DCA_Adjusted_Total_Ohms = np.around(ohmGrowth_df.DCA_Adjusted_Total_Ohms, decimals=3)\n",
    "\n",
    "\n",
    "    totalOhms_minOIPRate = []\n",
    "    minOIPYield = round(minOIPYield, 5)\n",
    "    ohmStakedGrowth_minOIPRate = initialOhms  # Initial staked ohms used to project growth over time\n",
    "    # Initialize the for loop to have loops equal to number of rows or number of epochs\n",
    "    for elements in ohmGrowth_df.Epochs:\n",
    "        totalOhms_minOIPRate.append(\n",
    "            ohmStakedGrowth_minOIPRate)  # populate the empty array with calclated values each iteration\n",
    "        ohmStakedGrowth_minOIPRate = ohmStakedGrowth_minOIPRate * (1 + minOIPYield)  # compound the total amount of ohms\n",
    "    ohmGrowth_df['Min_OhmGrowth'] = totalOhms_minOIPRate  # Clean up and add the new array to the main data frame\n",
    "\n",
    "    totalOhms_maxOIPRate = []\n",
    "    maxOIPYield = round(maxOIPYield, 5)\n",
    "    ohmStakedGrowth_maxOIPRate = initialOhms  # Initial staked ohms used to project growth over time\n",
    "    # Initialize the for loop to have loops equal to number of rows or number of epochs\n",
    "    for elements in ohmGrowth_df.Epochs:\n",
    "        totalOhms_maxOIPRate.append(\n",
    "            ohmStakedGrowth_maxOIPRate)  # populate the empty array with calclated values each iteration\n",
    "        ohmStakedGrowth_maxOIPRate = ohmStakedGrowth_maxOIPRate * (1 + maxOIPYield)  # compound the total amount of ohms\n",
    "    ohmGrowth_df['Max_OhmGrowth'] = totalOhms_maxOIPRate  # Clean up and add the new array to the main data frame\n",
    "\n",
    "    ohmGrowth_df_CSV = ohmGrowth_df.to_csv().encode('utf-8')\n",
    "    # ================================================================================\n",
    "\n",
    "\n",
    "    return ohmGrowth_df,ohmGrowth_df_CSV\n",
    "# end region\n"
   ]
  },
  {
   "cell_type": "markdown",
   "id": "7fc13875",
   "metadata": {
    "heading_collapsed": true,
    "hidden": true
   },
   "source": [
    "### Section2: Income (Staking rewards) forecast"
   ]
  },
  {
   "cell_type": "code",
   "execution_count": 3,
   "id": "173c993d",
   "metadata": {
    "hidden": true
   },
   "outputs": [],
   "source": [
    "def incooomProjection(ohmPrice,userAPY, initialOhms, desiredUSDTarget,desiredOHMTarget, desiredDailyIncooom,desiredWeeklyIncooom):\n",
    "\n",
    "    ohmStakedInit = initialOhms\n",
    "    userAPY = userAPY / 100\n",
    "    rewardYield = ((1 + userAPY) ** (1 / float(1095))) - 1\n",
    "    rewardYield = round(rewardYield, 5)\n",
    "    rebaseConst = 1 + rewardYield\n",
    "    # current staking %APY. Need to make this read from a source or user entry\n",
    "    #currentAPY = 17407 / 100\n",
    "\n",
    "    # Let's get some ROI Outputs starting with the daily\n",
    "    dailyROI = (1+rewardYield)**3 -1  # Equation to calculate your daily ROI based on reward Yield\n",
    "    dailyROI_P = round(dailyROI * 100, 1)  # daily ROI in Percentage\n",
    "    # ================================================================================\n",
    "\n",
    "    # 5 day ROI\n",
    "    fivedayROI = (1+rewardYield)**(5*3)-1   # Equation to calculate your 5 day ROI based on reward Yield\n",
    "    fivedayROI_P = round(fivedayROI * 100, 1)  # 5 day ROI in Percentage\n",
    "    # ================================================================================\n",
    "\n",
    "    # 7 day ROI\n",
    "    sevendayROI = (1+rewardYield)**( 7 * 3)-1  # Equation to calculate your 7 day ROI based on reward Yield\n",
    "    sevendayROI_P = round(sevendayROI * 100, 1)  # 7 day ROI in Percentage\n",
    "    # ================================================================================\n",
    "\n",
    "    # 30 day ROI\n",
    "    monthlyROI = (1+rewardYield)**( 30 *3)-1  # Equation to calculate your 30 day ROI based on reward Yield\n",
    "    monthlyROI_P = round(monthlyROI * 100, 1)  # 30 day ROI in Percentage\n",
    "    # ================================================================================\n",
    "\n",
    "    # Annual ROI\n",
    "    annualROI = (1+rewardYield)**( 365 *3)-1  # Equation to calculate your annual ROI based on reward Yield\n",
    "    annualROI_P = round(annualROI * 100, 1)  # Equation to calculate your annual ROI based on reward Yield\n",
    "    # ================================================================================\n",
    "\n",
    "    # Let's create a nice looking table to view the results of our calculations. The table will contain the ROIs and the percentages\n",
    "    roiData = [['Daily', dailyROI_P],\n",
    "               ['5 Day', fivedayROI_P],\n",
    "               ['7 Day', sevendayROI_P],\n",
    "               ['1 Month', monthlyROI_P],\n",
    "               ['1 Year', annualROI_P]]\n",
    "    roiTabulated_df = pd.DataFrame(roiData, columns=['Cadence', 'Percentage'])\n",
    "    roiDataTable = roiTabulated_df.to_dict('rows')\n",
    "    columns = [{'name': i,'id': i,} for i in (roiTabulated_df.columns)]\n",
    "    # ================================================================================\n",
    "    # Days until you reach target USD by staking only\n",
    "    forcastUSDTarget = round((math.log(desiredUSDTarget / (ohmStakedInit * ohmPrice), rebaseConst) /3))\n",
    "    # ================================================================================\n",
    "    # Days until you reach target OHM by staking only\n",
    "    forcastOHMTarget = round(math.log(desiredOHMTarget / (ohmStakedInit), rebaseConst) / 3)\n",
    "    # ================================================================================\n",
    "    # Daily Incooom calculations\n",
    "    # Required OHMs until you are earning your desired daily incooom\n",
    "    requiredOHMDailyIncooom = round((desiredDailyIncooom / dailyROI) / ohmPrice)\n",
    "    # Days until you are earning your desired daily incooom from your current initial staked OHM amount\n",
    "    forcastDailyIncooom = round(math.log((requiredOHMDailyIncooom / ohmStakedInit), rebaseConst) / 3)\n",
    "    requiredUSDForDailyIncooom = requiredOHMDailyIncooom * ohmPrice\n",
    "    # ================================================================================\n",
    "    # Weekly Incooom calculations\n",
    "    # Required OHMs until you are earning your desired weekly incooom\n",
    "    requiredOHMWeeklyIncooom = round((desiredWeeklyIncooom / sevendayROI) / ohmPrice)\n",
    "    # Days until you are earning your desired weekly incooom from your current initial staked OHM amount\n",
    "    forcastWeeklyIncooom = round(math.log((requiredOHMWeeklyIncooom / ohmStakedInit), rebaseConst) / 3)\n",
    "    requiredUSDForWeeklyIncooom = requiredOHMWeeklyIncooom * ohmPrice\n",
    "    # ================================================================================\n",
    "    # Let's create a nice looking table to view the results of our calculations. The table will contain the ROIs and the percentages\n",
    "    incooomForcastData = [['USD Target($)', forcastUSDTarget],\n",
    "                          ['OHM Target(OHM)', forcastOHMTarget],\n",
    "                          ['Required OHM for desired daily incooom', requiredOHMDailyIncooom],\n",
    "                          ['Days until desired daily incooom goal', forcastDailyIncooom],\n",
    "                          ['Required OHM for weekly incooom goal', requiredOHMWeeklyIncooom],\n",
    "                          ['Days until desired weekly incooom goal', forcastWeeklyIncooom]]\n",
    "\n",
    "    incooomForcastData_df = pd.DataFrame(incooomForcastData, columns=['Forcast', 'Results'])\n",
    "    incooomForcastDataDataTable = incooomForcastData_df.to_dict('rows')\n",
    "    columns = [{'name': i,'id': i,} for i in (incooomForcastData_df.columns)]\n",
    "\n",
    "    return roiTabulated_df,incooomForcastData_df, rewardYield"
   ]
  },
  {
   "cell_type": "code",
   "execution_count": 173,
   "id": "1afcc387",
   "metadata": {
    "code_folding": [],
    "hidden": true
   },
   "outputs": [],
   "source": [
    "# Data frame to hold all required data point. Data required would be Epochs since rebase are distributed every Epoch\n",
    "ohmGrowth_df = pd.DataFrame(np.arange(1096), columns=[\n",
    "    'Epochs'\n",
    "])  # In this case let's consider 1096 Epochs which is 365 days\n",
    "ohmGrowth_df[\n",
    "    'Days'] = ohmGrowth_df.Epochs / 3  # There are 3 Epochs per day so divide by 3 to get Days"
   ]
  },
  {
   "cell_type": "code",
   "execution_count": 174,
   "id": "c97954c7",
   "metadata": {
    "hidden": true
   },
   "outputs": [],
   "source": [
    "# Data frame to hold OIP-18\n",
    "# Start by creating a dictionary\n",
    "oip18_dict = {\n",
    "    'Total OHM supply range min': [\n",
    "        '0', '1,000,000', '10,000,000', '100,000,000', '1,000,000,000',\n",
    "        '10,000,000,000', '100,000,000,000'\n",
    "    ],\n",
    "    'Total OHM supply range max': [\n",
    "        '1,000,000', '10,000,000', '100,000,000', '1,000,000,000',\n",
    "        '10,000,000,000', '100,000,000,000', '1,000,000,000,000'\n",
    "    ],\n",
    "    'Min Reward Rate (%)':\n",
    "    [0.3058, 0.1587, 0.1186, 0.0458, 0.0148, 0.0039, 0.0019],\n",
    "    'Max Reward Rate (%)':\n",
    "    [0.4583, 0.3058, 0.1587, 0.1186, 0.0458, 0.0148, 0.0039],\n",
    "    'Min APY% (Assuming 90% Staked)': [10000, 1000, 500, 100, 25, 6, 3],\n",
    "    'Max APY% (Assumung 90% Staked)': [100000, 10000, 1000, 500, 100, 25, 6],\n",
    "}\n",
    "# Then convert to pandas data frame\n",
    "oip18_dataFrame = pd.DataFrame(oip18_dict)"
   ]
  },
  {
   "cell_type": "code",
   "execution_count": 175,
   "id": "31772650",
   "metadata": {
    "hidden": true
   },
   "outputs": [],
   "source": [
    "# Data frame to hold all required data point for bonding simulations\n",
    "bondingTable_Data = {'Scenarios': ['Base Case',\n",
    "                                   'Staking before each Epoch',\n",
    "                                   'Staking once a day',\n",
    "                                   'Staking halfway through vesting (day 2.5)'],}\n",
    "\n",
    "bondindSimulation_df = pd.DataFrame(bondingTable_Data)"
   ]
  },
  {
   "cell_type": "markdown",
   "id": "f2927e1a",
   "metadata": {
    "heading_collapsed": true,
    "hidden": true
   },
   "source": [
    "## Bonding Simulator"
   ]
  },
  {
   "cell_type": "markdown",
   "id": "5fa00130",
   "metadata": {
    "hidden": true
   },
   "source": [
    "The bonding simulator is comprised of one section"
   ]
  },
  {
   "cell_type": "code",
   "execution_count": 6,
   "id": "4c44a551",
   "metadata": {
    "hidden": true
   },
   "outputs": [],
   "source": [
    "def bondingSimulation(ohmPrice,priceofETH,initialOhms,bondROI,rewardYield,gwei):\n",
    "    # Protocol and ohm calcs:\n",
    "    usdBonded = ohmPrice * initialOhms\n",
    "    bondROI = (bondROI/100)\n",
    "    bondPrice = ohmPrice / (1 + (bondROI))\n",
    "    bondedOhms = usdBonded / bondPrice\n",
    "    bondedOhmsValue = bondedOhms * ohmPrice\n",
    "    # ========================================================================================\n",
    "    # Calculate the rebase rate and Current APY (next epoch rebase pulled from hippo data source)\n",
    "    rewardYield = rewardYield / 100\n",
    "    rebaseConst = 1 + rewardYield  # calculate a constant for use in APY calculation\n",
    "    currentAPY = (rebaseConst) ** (1095)   # current APY equation\n",
    "    currentAPY_P = (currentAPY) * 100  # convert to %\n",
    "    # ========================================================================================\n",
    "    # Calculate fees\n",
    "    stakingGasFee = 179123 * ((gwei * priceofETH) / (10 ** 9))\n",
    "    unstakingGasFee = 89654 * ((gwei * priceofETH) / (10 ** 9))\n",
    "    swappingGasFee = 225748 * ((gwei * priceofETH) / (10 ** 9)) + ((0.3 / 100) * bondedOhmsValue)\n",
    "    claimGasFee = 80209 * ((gwei * priceofETH) / (10 ** 9))\n",
    "    bondingGasFee = 258057 * ((gwei * priceofETH) / (10 ** 9))\n",
    "    # miscFee = 823373 * ((gwei*priceofETH)/(10**9))\n",
    "    # ================================================================================\n",
    "\n",
    "    claimStakeGasFee = stakingGasFee + claimGasFee\n",
    "    remainingGasFee = bondingGasFee + unstakingGasFee + swappingGasFee\n",
    "    # ================================================================================\n",
    "    # (3,3) Rate for the 15 epochs\n",
    "    stakingRewardRate = (1+rewardYield) ** 15 - 1\n",
    "    stakingRewardRate_P = round(stakingRewardRate*100,2)\n",
    "    #stakingOhmsGained = round(((initOhmValue - stakingGasFee) * (stakingRate / initOhmValue) - 1),4)\n",
    "\n",
    "    # (3,3) Ohm gained after 15 epochs\n",
    "    stakingOhmGrowth = stakingRewardRate * bondedOhmsValue / ohmPrice\n",
    "    stakingOhmGrowth = round(stakingOhmGrowth, 4)\n",
    "    # ================================================================================\n",
    "    vestedOhms_df = pd.DataFrame(np.arange(1, 16), columns=['Epochs'])\n",
    "    vestedOhms_df['Days'] = vestedOhms_df.Epochs / 3\n",
    "    vestedOhmGrowth = np.array([], dtype=np.float64)\n",
    "    bondROIGrowth = np.array([], dtype=np.float64)\n",
    "\n",
    "    stakedOhmsROI_df = pd.DataFrame(np.arange(1, 16), columns=['Epochs'])\n",
    "    stakedOhmsROI_df['Days'] = stakedOhmsROI_df.Epochs / 3\n",
    "    stakedROIAdjustedGrowth = np.array([], dtype=np.float64)\n",
    "    stakeROIGrowth = np.array([], dtype=np.float64)\n",
    "    stakedOhmsGrowth = np.array([], dtype=np.float64)\n",
    "    stakeGrowth = initialOhms\n",
    "\n",
    "    for epochs in vestedOhms_df.Epochs:\n",
    "        vestedOhm = ((bondedOhms / (1 + epochs)) * (((1+rewardYield) ** 15) - 1)) / ((1+rewardYield) ** (15 / (1 + epochs)) - 1)\n",
    "        vestedOhmROI = (((vestedOhm * ohmPrice - epochs * (claimStakeGasFee) - remainingGasFee) / usdBonded) - 1) * 100\n",
    "        vestedOhmGrowth = np.append(vestedOhmGrowth, vestedOhm)\n",
    "        bondROIGrowth = np.append(bondROIGrowth, vestedOhmROI)\n",
    "    vestedOhms_df['Vested_Ohms'] = vestedOhmGrowth\n",
    "    vestedOhms_df['Bond_ROI'] = bondROIGrowth\n",
    "\n",
    "    for epochs in stakedOhmsROI_df.Epochs:\n",
    "        stakedOhmsGrowth = np.append(stakedOhmsGrowth, stakeGrowth)\n",
    "        stakedROIAdjusted = ((usdBonded - stakingGasFee) * (((1+rewardYield) ** 15) / usdBonded) - 1) * 100\n",
    "        stakeROI = stakingRewardRate * 100\n",
    "        stakeGrowth = stakeGrowth * (1+rewardYield)\n",
    "        stakedROIAdjustedGrowth = np.append(stakedROIAdjustedGrowth, stakedROIAdjusted)\n",
    "        stakeROIGrowth = np.append(stakeROIGrowth, stakeROI)\n",
    "    stakedOhmsROI_df['Stake_ROI'] = stakeROIGrowth\n",
    "    stakedOhmsROI_df['Staked_feeAdjustedROI'] = stakedROIAdjustedGrowth\n",
    "    stakedOhmsROI_df['Stake_Growth'] = stakedOhmsGrowth\n",
    "    # ================================================================================\n",
    "\n",
    "    cols_to_use = stakedOhmsROI_df.columns.difference(vestedOhms_df.columns)\n",
    "    stake_bond_df = pd.merge(vestedOhms_df, stakedOhmsROI_df[cols_to_use], left_index=True, right_index=True, how='outer')\n",
    "    #stake_bond_df = pd.concat([vestedOhms_df,stakedOhmsROI_df],axis = 1, join = 'inner')\n",
    "\n",
    "    maxBondROI = round(stake_bond_df.Bond_ROI.max(),2)\n",
    "    maxStakeGrowth = round(stake_bond_df.Stake_Growth.max(),2)\n",
    "    maxBondGrowth = round(stake_bond_df.Vested_Ohms.max(), 2)\n",
    "    ohmGained = round((stake_bond_df.Vested_Ohms.max()-stake_bond_df.Stake_Growth.max()),2)\n",
    "    stakingGasFee = round(stakingGasFee,2)\n",
    "    unstakingGasFee = round(unstakingGasFee,2)\n",
    "    swappingGasFee = round(swappingGasFee,2)\n",
    "    claimGasFee = round(claimGasFee,2)\n",
    "    bondingGasFee = round(bondingGasFee,2)\n",
    "\n",
    "    vestedOhms_df_CSV = vestedOhms_df.to_csv().encode('utf-8')\n",
    "    stakedOhmsROI_df_CSV = stakedOhmsROI_df.to_csv().encode('utf-8')\n",
    "\n",
    "    return vestedOhms_df, stakedOhmsROI_df, stake_bond_df ,stakingGasFee,unstakingGasFee,swappingGasFee,claimGasFee,bondingGasFee,maxBondROI,stakingRewardRate_P,maxStakeGrowth,maxBondGrowth,ohmGained,vestedOhms_df_CSV,stakedOhmsROI_df_CSV"
   ]
  },
  {
   "cell_type": "markdown",
   "id": "e62e8d15",
   "metadata": {
    "heading_collapsed": true
   },
   "source": [
    "# Execute app"
   ]
  },
  {
   "cell_type": "code",
   "execution_count": 7,
   "id": "92825a69",
   "metadata": {
    "hidden": true
   },
   "outputs": [],
   "source": [
    "# App is executed on the streamlit server"
   ]
  }
 ],
 "metadata": {
  "kernelspec": {
   "display_name": "Python 3",
   "language": "python",
   "name": "python3"
  },
  "language_info": {
   "codemirror_mode": {
    "name": "ipython",
    "version": 3
   },
   "file_extension": ".py",
   "mimetype": "text/x-python",
   "name": "python",
   "nbconvert_exporter": "python",
   "pygments_lexer": "ipython3",
   "version": "3.8.10"
  },
  "toc": {
   "base_numbering": 1,
   "nav_menu": {},
   "number_sections": true,
   "sideBar": true,
   "skip_h1_title": false,
   "title_cell": "Table of Contents",
   "title_sidebar": "Contents",
   "toc_cell": false,
   "toc_position": {
    "height": "calc(100% - 180px)",
    "left": "10px",
    "top": "150px",
    "width": "355.994px"
   },
   "toc_section_display": true,
   "toc_window_display": true
  },
  "varInspector": {
   "cols": {
    "lenName": 16,
    "lenType": 16,
    "lenVar": 40
   },
   "kernels_config": {
    "python": {
     "delete_cmd_postfix": "",
     "delete_cmd_prefix": "del ",
     "library": "var_list.py",
     "varRefreshCmd": "print(var_dic_list())"
    },
    "r": {
     "delete_cmd_postfix": ") ",
     "delete_cmd_prefix": "rm(",
     "library": "var_list.r",
     "varRefreshCmd": "cat(var_dic_list()) "
    }
   },
   "types_to_exclude": [
    "module",
    "function",
    "builtin_function_or_method",
    "instance",
    "_Feature"
   ],
   "window_display": false
  }
 },
 "nbformat": 4,
 "nbformat_minor": 5
}
