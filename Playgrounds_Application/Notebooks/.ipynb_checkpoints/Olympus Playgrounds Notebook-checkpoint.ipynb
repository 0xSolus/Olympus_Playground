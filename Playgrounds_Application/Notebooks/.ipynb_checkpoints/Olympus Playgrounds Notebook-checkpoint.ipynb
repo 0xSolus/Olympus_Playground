{
 "cells": [
  {
   "cell_type": "markdown",
   "id": "7b5dc8ee",
   "metadata": {
    "heading_collapsed": true
   },
   "source": [
    "# Welcome to OlympusDAO Playground"
   ]
  },
  {
   "cell_type": "markdown",
   "id": "8a8a25f3",
   "metadata": {
    "hidden": true
   },
   "source": [
    "## Introduction: What is Olympus Playground?\n",
    "\n",
    "This is a simple projection calculator for Staking and bonding ohm in OlympusDAO protocol\n",
    "Welcome to Olympus Playground\n",
    "This is an interactive notebook to study, play and forcast the growth of your ohm over time. This notebook is designed to work hand in hand with the awesome gitbook created by the DAO and all of Brians calcs!\n",
    "\n",
    "### Staking Projections:\n",
    "\n",
    "- ROIs at current reward yield\n",
    "- ROI after 1 day at current reward yield\n",
    "- ROI after 5 days at current reward yield\n",
    "- OHM and USD ROI and holding value in 5 days\n",
    "- ROI after 7 days at current reward yield\n",
    "- OMH and USD ROI and holding value in 7 days\n",
    "- ROI after 1 month at current reward yield\n",
    "- OHM and USD ROI and holding value in 1 Month\n",
    "- ROI after 1 year at current reward yield\n",
    "- OHM and USD ROI and holding value in 1 Year\n",
    "- Days until desired target USD\n",
    "- Days until desired target OHM\n",
    "- OHM and USD ROI and holding on specific date. This data will be provided on an interactive chart where you can hover your mouse over any desired date and view the projection.\n",
    "\n",
    "### Incooom Projections:\n",
    "\n",
    "- Required OHM to reach desired daily incooom\n",
    "- Days until you reach required OHMs for daily incoom (Assuming growth by staking alone)\n",
    "- Estimated date\n",
    "Desire weekly incooom\n",
    "- Required OHM to reach goal desire weekly incooom\n",
    "- weeks until you reach required OHMs for weeks incoom (Assuming growth by staking alone)\n",
    "- Estimated date\n"
   ]
  },
  {
   "cell_type": "markdown",
   "id": "9440a2f3",
   "metadata": {},
   "source": [
    "# The Libraries"
   ]
  },
  {
   "cell_type": "code",
   "execution_count": 151,
   "id": "c78d57c7",
   "metadata": {
    "code_folding": []
   },
   "outputs": [],
   "source": [
    "# ==============THE LIBRARIES\n",
    "# region Description: Import all required libraries for this simulator\n",
    "from pycoingecko import CoinGeckoAPI # Coin gecko API: Pulls live data from coin gecko\n",
    "import math  # Needed for basic math operations\\n\",\n",
    "import pandas as pd  # Needed fpr dataframe creation and operations\\n\",\n",
    "import numpy as np  # Needed for array manipulations\\n\",\n",
    "from itertools import islice  # Needed for more complex row and coloumn slicing\\n\",\n",
    "import matplotlib.pyplot as plt  # Needed for quickly ploting results\"\n",
    "import base64\n",
    "from PIL import Image\n",
    "import pathlib  # url management\n",
    "from pathlib import Path\n",
    "import plotly.express as px  # cleaner graphs\n",
    "import plotly.graph_objects as go  # cleaner graphs\n",
    "import plotly.figure_factory as ff\n",
    "import streamlit as st\n",
    "import requests"
   ]
  },
  {
   "cell_type": "markdown",
   "id": "8b216b07",
   "metadata": {
    "code_folding": []
   },
   "source": [
    "### Streamlit Library\n",
    "\n",
    "Streamlit is an open-source Python library that makes it easy to create and share beautiful, custom web apps for machine learning and data science\n",
    "\n",
    "https://docs.streamlit.io/"
   ]
  },
  {
   "cell_type": "markdown",
   "id": "7a2c965b",
   "metadata": {
    "code_folding": []
   },
   "source": [
    "### Plotly Library\n",
    "\n",
    "Plotly's Python graphing library makes interactive, publication-quality graphs. Examples of how to make line plots, scatter plots, area charts, bar charts, error bars, box plots, histograms, heatmaps, subplots, multiple-axes, polar charts, and bubble charts.\n",
    "\n",
    "https://plotly.com/python/"
   ]
  },
  {
   "cell_type": "markdown",
   "id": "964e6f86",
   "metadata": {
    "code_folding": []
   },
   "source": [
    "### Pandas Library\n",
    "\n",
    "pandas is a fast, powerful, flexible and easy to use open source data analysis and manipulation tool,\n",
    "built on top of the Python programming language\n",
    "\n",
    "https://pandas.pydata.org/"
   ]
  },
  {
   "cell_type": "markdown",
   "id": "abb04db4",
   "metadata": {
    "code_folding": []
   },
   "source": [
    "### Numpy Library\n",
    "\n",
    "NumPy is the fundamental package for scientific computing in Python. \n",
    "It is a Python library that provides a multidimensional array object, various derived objects \n",
    "(such as masked arrays and matrices), and an assortment of routines for fast operations on arrays, including mathematical, logical, shape manipulation, sorting, selecting, I/O, discrete Fourier transforms, basic linear algebra, basic statistical operations, random simulation and much more.\n",
    "\n",
    "https://numpy.org/"
   ]
  },
  {
   "cell_type": "markdown",
   "id": "9f327f40",
   "metadata": {},
   "source": [
    "# The server "
   ]
  },
  {
   "cell_type": "markdown",
   "id": "544de40e",
   "metadata": {},
   "source": [
    "Playgrounds is hosted on the streamlit cloud server\n",
    "\n",
    "https://streamlit.io/cloud#plans-table\n",
    "\n",
    "All py files are stored and read from the Playgrounds github repo\n",
    "https://github.com/Tachikoma000/Olympus_Playground"
   ]
  },
  {
   "cell_type": "markdown",
   "id": "55186527",
   "metadata": {
    "heading_collapsed": true
   },
   "source": [
    "# Core Code"
   ]
  },
  {
   "cell_type": "markdown",
   "id": "e3b81f68",
   "metadata": {
    "hidden": true
   },
   "source": [
    "## Read data sources: Coingecko and Hippo data source"
   ]
  },
  {
   "cell_type": "code",
   "execution_count": 172,
   "id": "6dd0e11a",
   "metadata": {
    "code_folding": [],
    "hidden": true
   },
   "outputs": [],
   "source": [
    "cg = CoinGeckoAPI()  # Pulls live price feed from coingecko\n",
    "# ohmPrice = cg.get_price(\n",
    "# ids='olympus',\n",
    "# vs_currencies='usd')  # Get most recent price from coingecko via api\n",
    "#ohmPrice = ohmPrice['olympus']['usd']"
   ]
  },
  {
   "cell_type": "markdown",
   "id": "fc2a814b",
   "metadata": {
    "hidden": true
   },
   "source": [
    "## Data Frame construction"
   ]
  },
  {
   "cell_type": "markdown",
   "id": "e8932bdf",
   "metadata": {
    "hidden": true
   },
   "source": [
    "### Data Frame construction: Ohm Growth"
   ]
  },
  {
   "cell_type": "code",
   "execution_count": 173,
   "id": "1afcc387",
   "metadata": {
    "code_folding": [],
    "hidden": true
   },
   "outputs": [],
   "source": [
    "# Data frame to hold all required data point. Data required would be Epochs since rebase are distributed every Epoch\n",
    "ohmGrowth_df = pd.DataFrame(np.arange(1096), columns=[\n",
    "    'Epochs'\n",
    "])  # In this case let's consider 1096 Epochs which is 365 days\n",
    "ohmGrowth_df[\n",
    "    'Days'] = ohmGrowth_df.Epochs / 3  # There are 3 Epochs per day so divide by 3 to get Days"
   ]
  },
  {
   "cell_type": "markdown",
   "id": "2c9604d6",
   "metadata": {
    "hidden": true
   },
   "source": [
    "### Data Frame construction: OIP-18"
   ]
  },
  {
   "cell_type": "code",
   "execution_count": 174,
   "id": "c97954c7",
   "metadata": {
    "hidden": true
   },
   "outputs": [],
   "source": [
    "# Data frame to hold OIP-18\n",
    "# Start by creating a dictionary\n",
    "oip18_dict = {\n",
    "    'Total OHM supply range min': [\n",
    "        '0', '1,000,000', '10,000,000', '100,000,000', '1,000,000,000',\n",
    "        '10,000,000,000', '100,000,000,000'\n",
    "    ],\n",
    "    'Total OHM supply range max': [\n",
    "        '1,000,000', '10,000,000', '100,000,000', '1,000,000,000',\n",
    "        '10,000,000,000', '100,000,000,000', '1,000,000,000,000'\n",
    "    ],\n",
    "    'Min Reward Rate (%)':\n",
    "    [0.3058, 0.1587, 0.1186, 0.0458, 0.0148, 0.0039, 0.0019],\n",
    "    'Max Reward Rate (%)':\n",
    "    [0.4583, 0.3058, 0.1587, 0.1186, 0.0458, 0.0148, 0.0039],\n",
    "    'Min APY% (Assuming 90% Staked)': [10000, 1000, 500, 100, 25, 6, 3],\n",
    "    'Max APY% (Assumung 90% Staked)': [100000, 10000, 1000, 500, 100, 25, 6],\n",
    "}\n",
    "# Then convert to pandas data frame\n",
    "oip18_dataFrame = pd.DataFrame(oip18_dict)"
   ]
  },
  {
   "cell_type": "markdown",
   "id": "fa0577aa",
   "metadata": {
    "heading_collapsed": true,
    "hidden": true
   },
   "source": [
    "### Data Frame construction: (4,4) Bonding Simulation Output"
   ]
  },
  {
   "cell_type": "code",
   "execution_count": 175,
   "id": "31772650",
   "metadata": {
    "hidden": true
   },
   "outputs": [],
   "source": [
    "# Data frame to hold all required data point for bonding simulations\n",
    "bondingTable_Data = {'Scenarios': ['Base Case',\n",
    "                                   'Staking before each Epoch',\n",
    "                                   'Staking once a day',\n",
    "                                   'Staking halfway through vesting (day 2.5)'],}\n",
    "\n",
    "bondindSimulation_df = pd.DataFrame(bondingTable_Data)"
   ]
  },
  {
   "cell_type": "markdown",
   "id": "f2927e1a",
   "metadata": {
    "hidden": true
   },
   "source": [
    "## Funtions and Callbacks"
   ]
  },
  {
   "cell_type": "markdown",
   "id": "6307f905",
   "metadata": {
    "hidden": true
   },
   "source": [
    "### Functions and Callbacks: (3,3) Simulations\n",
    " Ohm growth section: This section calculates and plots the projected ohm growth over time (1000 days)"
   ]
  },
  {
   "cell_type": "code",
   "execution_count": 176,
   "id": "b1a42385",
   "metadata": {
    "code_folding": [
     15,
     19,
     26
    ],
    "hidden": true
   },
   "outputs": [],
   "source": [
    "# Define callback to update the ohmGrowthChart. As user changes the initial staked ohm, the chart updates dynamically\n",
    "@app.callback(Output('ohmGrowthChart', 'figure'),\n",
    "              Input(\"initialOhms\", \"value\"), Input('rewardYield', 'value'))\n",
    "# ================================================================================\n",
    "# This function calculates and generates the ohm growth over time using the initial staked ohm as a starting point\n",
    "def update_figure(initialOhms, rewardYield):\n",
    "\n",
    "    # To Calculate the ohm growth over 3000 Epochs or 1000 days, we loop through the exponential ohm growth equation every epoch\n",
    "\n",
    "    totalOhms = [\n",
    "    ]  # create an empty array that will hold the componded rewards\n",
    "    rewardYield = round(rewardYield / 100, 5)\n",
    "\n",
    "    ohmStakedGrowth = initialOhms  # Initial staked ohms used to project growth over time\n",
    "    # Initialize the for loop to have loops equal to number of rows or number of epochs\n",
    "    for elements in ohmGrowth_df.Epochs:\n",
    "        totalOhms.append(\n",
    "            ohmStakedGrowth\n",
    "        )  # populate the empty array with calclated values each iteration\n",
    "        ohmStakedGrowth = ohmStakedGrowth * (\n",
    "            1 + rewardYield)  # compound the total amount of ohms\n",
    "    ohmGrowth_df[\n",
    "        'Total_Ohms'] = totalOhms  # Clean up and add the new array to the main data frame\n",
    "    ohmGrowth_df.Days = np.around(\n",
    "        ohmGrowth_df.Days, decimals=1\n",
    "    )  # Python is funny so let's round up our numbers . 1 decimal place for days\",\n",
    "    ohmGrowth_df.Total_Ohms = np.around(\n",
    "        ohmGrowth_df.Total_Ohms, decimals=3\n",
    "    )  # Python is funny so let's round up our numbers . 3 decimal place for ohms\"\n",
    "\n",
    "    # ================================================================================\n",
    "\n",
    "    return px.line(ohmGrowth_df,\n",
    "                   x=\"Days\",\n",
    "                   y=\"Total_Ohms\",\n",
    "                   render_mode=\"webgl\",\n",
    "                   title=\"Accumulated Ohms\")\n",
    "#.update_layout({'plot_bgcolor': 'rgba(0, 0, 0, 0)','paper_bgcolor': 'rgba(0, 0, 0, 0)',})"
   ]
  },
  {
   "cell_type": "code",
   "execution_count": 177,
   "id": "47780c20",
   "metadata": {
    "code_folding": [
     27,
     34,
     41,
     48,
     55,
     58,
     75,
     94,
     97
    ],
    "hidden": true
   },
   "outputs": [],
   "source": [
    "# Define ROI callbacks to update the roi output objects and incooom forcasts.\n",
    "@app.callback(Output('dailyROI_P', 'value'), Output('fivedayROI_P', 'value'),\n",
    "              Output('sevendayROI_P', 'value'), Output('monthlyROI_P',\n",
    "                                                       'value'),\n",
    "              Output('annualROI_P', 'value'),\n",
    "              Output('forcastUSDTarget', 'value'),\n",
    "              Output('forcastOHMTarget', 'value'),\n",
    "              Output('forcastDailyIncooom', 'value'),\n",
    "              Output('requiredOHMDailyIncooom', 'value'),\n",
    "              Output('forcastWeeklyIncooom', 'value'),\n",
    "              Output('requiredOHMWeeklyIncooom', 'value'),\n",
    "              Input(\"rewardYield\", \"value\"), Input(\"initialOhms\", \"value\"),\n",
    "              Input(\"desiredUSDTarget\", \"value\"),\n",
    "              Input(\"desiredOHMTarget\", \"value\"),\n",
    "              Input(\"desiredDailyIncooom\", \"value\"),\n",
    "              Input(\"desiredWeeklyIncooom\", \"value\"))\n",
    "# ================================================================================\n",
    "def update_Incooom(rewardYield, initialOhms, desiredUSDTarget,\n",
    "                   desiredOHMTarget, desiredDailyIncooom,\n",
    "                   desiredWeeklyIncooom):\n",
    "    ohmStakedInit = initialOhms\n",
    "    rewardYield = round(rewardYield / 100, 5)\n",
    "    rebaseConst = 1 + rewardYield\n",
    "    # current staking %APY. Need to make this read from a source or user entry\n",
    "    currentAPY = 17407 / 100\n",
    "\n",
    "    # Let's get some ROI Outputs starting with the daily\n",
    "    dailyROI = (\n",
    "        1 + rewardYield\n",
    "    )**3 - 1  # Equation to calculate your daily ROI based on reward Yield\n",
    "    dailyROI_P = round(dailyROI * 100, 2)  # daily ROI in Percentage\n",
    "    # ================================================================================\n",
    "\n",
    "    # 5 day ROI\n",
    "    fivedayROI = (1 + rewardYield)**(\n",
    "        5 *\n",
    "        3) - 1  # Equation to calculate your 5 day ROI based on reward Yield\n",
    "    fivedayROI_P = round(fivedayROI * 100, 2)  # 5 day ROI in Percentage\n",
    "    # ================================================================================\n",
    "\n",
    "    # 7 day ROI\n",
    "    sevendayROI = (1 + rewardYield)**(\n",
    "        7 *\n",
    "        3) - 1  # Equation to calculate your 7 day ROI based on reward Yield\n",
    "    sevendayROI_P = round(sevendayROI * 100, 2)  # 7 day ROI in Percentage\n",
    "    # ================================================================================\n",
    "\n",
    "    # 30 day ROI\n",
    "    monthlyROI = (1 + rewardYield)**(\n",
    "        30 *\n",
    "        3) - 1  # Equation to calculate your 30 day ROI based on reward Yield\n",
    "    monthlyROI_P = round(monthlyROI * 100, 2)  # 30 day ROI in Percentage\n",
    "    # ================================================================================\n",
    "\n",
    "    # Annual ROI\n",
    "    annualROI = (1 + rewardYield)**(\n",
    "        365 *\n",
    "        3) - 1  # Equation to calculate your annual ROI based on reward Yield\n",
    "    annualROI_P = round(\n",
    "        annualROI * 100,\n",
    "        2)  # Equation to calculate your annual ROI based on reward Yield\n",
    "    # ================================================================================\n",
    "\n",
    "    # Let's create a nice looking table to view the results of our calculations. The table will contain the ROIs and the percentages\n",
    "    roiData = [['Daily', dailyROI_P], ['5 Day', fivedayROI_P],\n",
    "               ['7 Day', sevendayROI_P], ['1 Month', monthlyROI_P],\n",
    "               ['1 Year', annualROI_P]]\n",
    "    roiTabulated_df = pd.DataFrame(roiData, columns=['Cadence', 'Percentage'])\n",
    "    roiDataTable = roiTabulated_df.to_dict('rows')\n",
    "    columns = [{\n",
    "        'name': i,\n",
    "        'id': i,\n",
    "    } for i in (roiTabulated_df.columns)]\n",
    "    # ================================================================================\n",
    "    # Days until you reach target USD by staking only\n",
    "    forcastUSDTarget = round(\n",
    "        (math.log(desiredUSDTarget / (ohmStakedInit * ohmPrice), rebaseConst) /\n",
    "         3))\n",
    "    # ================================================================================\n",
    "    # Days until you reach target OHM by staking only\n",
    "    forcastOHMTarget = round(\n",
    "        math.log(desiredOHMTarget / (ohmStakedInit), rebaseConst) / 3)\n",
    "    # ================================================================================\n",
    "    # Daily Incooom calculations\n",
    "    # Required OHMs until you are earning your desired daily incooom\n",
    "    requiredOHMDailyIncooom = round(\n",
    "        (desiredDailyIncooom / dailyROI) / ohmPrice)\n",
    "    # Days until you are earning your desired daily incooom from your current initial staked OHM amount\n",
    "    forcastDailyIncooom = round(\n",
    "        math.log((requiredOHMDailyIncooom / ohmStakedInit), rebaseConst) / 3)\n",
    "    requiredUSDForDailyIncooom = requiredOHMDailyIncooom * ohmPrice\n",
    "    # ================================================================================\n",
    "    # Weekly Incooom calculations\n",
    "    # Required OHMs until you are earning your desired weekly incooom\n",
    "    requiredOHMWeeklyIncooom = round(\n",
    "        (desiredWeeklyIncooom / sevendayROI) / ohmPrice)\n",
    "    # Days until you are earning your desired weekly incooom from your current initial staked OHM amount\n",
    "    forcastWeeklyIncooom = round(\n",
    "        math.log((requiredOHMWeeklyIncooom / ohmStakedInit), rebaseConst) / 3)\n",
    "    requiredUSDForWeeklyIncooom = requiredOHMWeeklyIncooom * ohmPrice\n",
    "    # ================================================================================\n",
    "\n",
    "    return dailyROI_P, fivedayROI_P, sevendayROI_P, monthlyROI_P, annualROI_P, forcastUSDTarget, forcastOHMTarget, forcastDailyIncooom, requiredOHMDailyIncooom, forcastWeeklyIncooom, requiredOHMWeeklyIncooom"
   ]
  },
  {
   "cell_type": "markdown",
   "id": "8163622f",
   "metadata": {
    "heading_collapsed": true,
    "hidden": true
   },
   "source": [
    "### Functions and Callbacks: (4,4) Simulations\n",
    " Ohm growth section: This section calculates and plots the projected ohm growth over time (365 days)"
   ]
  },
  {
   "cell_type": "code",
   "execution_count": 178,
   "id": "da358a0f",
   "metadata": {
    "code_folding": [
     0
    ],
    "hidden": true
   },
   "outputs": [],
   "source": [
    "# Define callback to update the bondingGrowthChart. As user changes the initial staked ohm, the chart updates dynamically\n",
    "@app.callback(Output('bondingAPYChart', 'figure'),\n",
    "              Input(\"initialOhms\", \"value\"), Input('rewardYield', 'value'))\n",
    "# ================================================================================\n",
    "# This function calculates and generates the ohm growth over time using the initial staked ohm as a starting point\n",
    "def update_bondingfigure(initialOhms, rewardYield):\n",
    "\n",
    "    # To Calculate the ohm growth over 3000 Epochs or 1000 days, we loop through the exponential ohm growth equation every epoch\n",
    "\n",
    "    totalOhms = [\n",
    "    ]  # create an empty array that will hold the componded rewards\n",
    "    rewardYield = round(rewardYield / 100, 5)\n",
    "\n",
    "    ohmStakedGrowth = initialOhms  # Initial staked ohms used to project growth over time\n",
    "    # Initialize the for loop to have loops equal to number of rows or number of epochs\n",
    "    for elements in ohmGrowth_df.Epochs:\n",
    "        totalOhms.append(\n",
    "            ohmStakedGrowth\n",
    "        )  # populate the empty array with calclated values each iteration\n",
    "        ohmStakedGrowth = ohmStakedGrowth * (\n",
    "            1 + rewardYield)  # compound the total amount of ohms\n",
    "    ohmGrowth_df[\n",
    "        'Total_Ohms'] = totalOhms  # Clean up and add the new array to the main data frame\n",
    "    ohmGrowth_df.Days = np.around(\n",
    "        ohmGrowth_df.Days, decimals=1\n",
    "    )  # Python is funny so let's round up our numbers . 1 decimal place for days\",\n",
    "    ohmGrowth_df.Total_Ohms = np.around(\n",
    "        ohmGrowth_df.Total_Ohms, decimals=3\n",
    "    )  # Python is funny so let's round up our numbers . 3 decimal place for ohms\"\n",
    "\n",
    "    # ================================================================================\n",
    "\n",
    "    return px.line(ohmGrowth_df,\n",
    "                   x=\"Days\",\n",
    "                   y=\"Total_Ohms\",\n",
    "                   render_mode=\"webgl\",\n",
    "                   title=\"Accumulated Ohms\")\n",
    "#.update_layout({'plot_bgcolor': 'rgba(0, 0, 0, 0)','paper_bgcolor': 'rgba(0, 0, 0, 0)',})"
   ]
  },
  {
   "cell_type": "code",
   "execution_count": 179,
   "id": "0ad62fc8",
   "metadata": {
    "hidden": true
   },
   "outputs": [],
   "source": [
    "# Define ROI callbacks to update the roi output objects and incooom forcasts.\n",
    "@app.callback(Output('stakingRate', 'value'),\n",
    "              Output('stakingOhmsGained', 'value'),\n",
    "              Output('vestedBonus', 'value'),\n",
    "              Output('bondingRate','value'),\n",
    "              Output('bondingOhmsGained', 'value'),\n",
    "              Output('ethFees', 'value'),\n",
    "              Output('rateDiff', 'value'),\n",
    "              Output('minBondDiscount', 'value'),\n",
    "              Output('effectiveRebaseRate', 'value'),\n",
    "              Output('currentAPY', 'value'),\n",
    "              Output('bondingAPY', 'value'),\n",
    "              Output('apyMultiplier', 'value'),\n",
    "              Input(\"discountedOHMPrice\", \"value\"),\n",
    "              Input(\"amountUSDBonded\", \"value\"),\n",
    "              Input(\"priceofETH\", \"value\"),\n",
    "              Input(\"gasPrice\", \"value\"),\n",
    "              Input(\"bondROI\", \"value\"),\n",
    "              Input(\"bondRebaseRate\", \"value\"))\n",
    "    # ================================================================================\n",
    "def update_Incooom(discountedOHMPrice, amountUSDBonded, priceofETH, gasPrice, bondROI):\n",
    "    \n",
    "# Since there will be multiple scenarios (Possibly growing over time, we need to utilize if statements for scenarios\n",
    "\n",
    "# First Scenario is staking before every epoch  \n",
    "    \n",
    "# Calculate the rebase rate and Current APY \n",
    "    rewardRate = round(nextEpochRebase/100, 4) # next epoch rebase pulled from hippo data source\n",
    "    rebaseConst = 1 + rewardRate # calculate a constant for use in APY calculation\n",
    "    currentAPY = ((rebaseConst)**(1905))-1 # current APY equation \n",
    "    currentAPY_P = ((rebaseConst)**(1905))*100 # conver to %\n",
    "\n",
    "    # ================================================================================\n",
    "# DEFAULT CASE: STAKING BEFORE EVERY EPOCH\n",
    "    # ================================================================================\n",
    "#(3,3)\n",
    "    stakingRate = (rebaseConst)**15 - 1  # staking reward rate\n",
    "    stakingRate_P = round(stakingRate * 100, 4)  # staking reward rate in percentage\n",
    "    stakingOhmsGained = round(amountUSDBonded*stakingRate/discountedOHMPrice,4)  # Ohms gained from staking scenario\n",
    "    vestedBonus = ((rebaseConst)*(1-(rebaseConst)**15)/(1-(rebaseConst))/15)-1  # ohms gained as a percentage\n",
    "    vestedBonus_P = round(vestedBonus * 100, 2)  # extra ohms gained in percentage\n",
    "    # ================================================================================\n",
    "#(4,4)\n",
    "    bondingRate = (round(bondROI/100, 4))+vestedBonus # bonding reward rate\n",
    "    bondingRate_P = round(bondingRate * 100, 4)  # bonding reward rate in percentage\n",
    "    bondingOhmsGained = (amountUSDBonded*bondingRate/discountedOHMPrice) # ohms gained from bonding\n",
    "    # ================================================================================\n",
    "#Rates comparison\n",
    "    rateDiff = bondingRate - stakingRate\n",
    "    minBondDiscount = stakingRate_P - vestedBonus_P\n",
    "    # ================================================================================\n",
    "#ROI and APY\n",
    "    effectiveRebaseRate = 10**(math.log(1+bondingRate)/15)-1\n",
    "    bondingAPY = (1+bondingRate)**(365/5)-1\n",
    "    apyMultiplier = bondingAPY/currentAPY\n",
    "    \n",
    "\n",
    "    return dailyROI_P, fivedayROI_P, sevendayROI_P, monthlyROI_P, annualROI_P, forcastUSDTarget, forcastOHMTarget, forcastDailyIncooom, requiredOHMDailyIncooom, forcastWeeklyIncooom, requiredOHMWeeklyIncooom"
   ]
  },
  {
   "cell_type": "code",
   "execution_count": null,
   "id": "5c57c912",
   "metadata": {
    "hidden": true
   },
   "outputs": [],
   "source": []
  },
  {
   "cell_type": "markdown",
   "id": "e62e8d15",
   "metadata": {
    "heading_collapsed": true
   },
   "source": [
    "# Execute app"
   ]
  },
  {
   "cell_type": "code",
   "execution_count": 180,
   "id": "92825a69",
   "metadata": {
    "hidden": true
   },
   "outputs": [
    {
     "name": "stdout",
     "output_type": "stream",
     "text": [
      "Dash app running on http://127.0.0.1:8052/\n"
     ]
    }
   ],
   "source": [
    "# Run app and display result inline in the notebook\n",
    "app.run_server(port=8052)"
   ]
  }
 ],
 "metadata": {
  "kernelspec": {
   "display_name": "Python 3",
   "language": "python",
   "name": "python3"
  },
  "language_info": {
   "codemirror_mode": {
    "name": "ipython",
    "version": 3
   },
   "file_extension": ".py",
   "mimetype": "text/x-python",
   "name": "python",
   "nbconvert_exporter": "python",
   "pygments_lexer": "ipython3",
   "version": "3.8.10"
  },
  "toc": {
   "base_numbering": 1,
   "nav_menu": {},
   "number_sections": true,
   "sideBar": true,
   "skip_h1_title": false,
   "title_cell": "Table of Contents",
   "title_sidebar": "Contents",
   "toc_cell": false,
   "toc_position": {
    "height": "calc(100% - 180px)",
    "left": "10px",
    "top": "150px",
    "width": "482px"
   },
   "toc_section_display": true,
   "toc_window_display": true
  },
  "varInspector": {
   "cols": {
    "lenName": 16,
    "lenType": 16,
    "lenVar": 40
   },
   "kernels_config": {
    "python": {
     "delete_cmd_postfix": "",
     "delete_cmd_prefix": "del ",
     "library": "var_list.py",
     "varRefreshCmd": "print(var_dic_list())"
    },
    "r": {
     "delete_cmd_postfix": ") ",
     "delete_cmd_prefix": "rm(",
     "library": "var_list.r",
     "varRefreshCmd": "cat(var_dic_list()) "
    }
   },
   "types_to_exclude": [
    "module",
    "function",
    "builtin_function_or_method",
    "instance",
    "_Feature"
   ],
   "window_display": false
  }
 },
 "nbformat": 4,
 "nbformat_minor": 5
}
